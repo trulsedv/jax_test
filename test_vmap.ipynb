{
 "cells": [
  {
   "cell_type": "code",
   "execution_count": 17,
   "metadata": {},
   "outputs": [
    {
     "name": "stdout",
     "output_type": "stream",
     "text": [
      "[0 1 2] * [2. 3. 4.] = 11.0\n",
      "[1 2 3] * [2. 3. 4.] = 20.0\n",
      "[2 3 4] * [2. 3. 4.] = 29.0\n"
     ]
    },
    {
     "data": {
      "text/plain": [
       "Array([11., 20., 29.], dtype=float32)"
      ]
     },
     "execution_count": 17,
     "metadata": {},
     "output_type": "execute_result"
    }
   ],
   "source": [
    "import jax  # noqa: F401\n",
    "import jax.numpy as jnp\n",
    "\n",
    "x = jnp.arange(5)\n",
    "w = jnp.array([2., 3., 4.])\n",
    "\n",
    "\n",
    "def convolve(x, w):\n",
    "    output = []\n",
    "    for i in range(len(x) - len(w) + 1):\n",
    "        print(f\"{x[i:i + len(w)]} * {w} = {jnp.dot(x[i:i + len(w)], w)}\")\n",
    "        output.append(jnp.dot(x[i:i + len(w)], w))\n",
    "    return jnp.array(output)\n",
    "\n",
    "\n",
    "convolve(x, w)"
   ]
  },
  {
   "cell_type": "code",
   "execution_count": 18,
   "metadata": {},
   "outputs": [
    {
     "name": "stdout",
     "output_type": "stream",
     "text": [
      "[0 1 2] * [2. 3. 4.] = 11.0\n",
      "[1 2 3] * [2. 3. 4.] = 20.0\n",
      "[2 3 4] * [2. 3. 4.] = 29.0\n",
      "[0 1 2] * [2. 3. 4.] = 11.0\n",
      "[1 2 3] * [2. 3. 4.] = 20.0\n",
      "[2 3 4] * [2. 3. 4.] = 29.0\n"
     ]
    },
    {
     "data": {
      "text/plain": [
       "Array([[11., 20., 29.],\n",
       "       [11., 20., 29.]], dtype=float32)"
      ]
     },
     "execution_count": 18,
     "metadata": {},
     "output_type": "execute_result"
    }
   ],
   "source": [
    "xs = jnp.stack([x, x])\n",
    "ws = jnp.stack([w, w])\n",
    "\n",
    "\n",
    "def manually_batched_convolve(xs, ws):\n",
    "    output = [convolve(xs[i], ws[i]) for i in range(len(xs))]\n",
    "    return jnp.stack(output)\n",
    "\n",
    "\n",
    "manually_batched_convolve(xs, ws)"
   ]
  }
 ],
 "metadata": {
  "kernelspec": {
   "display_name": ".venv",
   "language": "python",
   "name": "python3"
  },
  "language_info": {
   "codemirror_mode": {
    "name": "ipython",
    "version": 3
   },
   "file_extension": ".py",
   "mimetype": "text/x-python",
   "name": "python",
   "nbconvert_exporter": "python",
   "pygments_lexer": "ipython3",
   "version": "3.12.3"
  }
 },
 "nbformat": 4,
 "nbformat_minor": 2
}
